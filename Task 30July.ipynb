{
 "cells": [
  {
   "cell_type": "raw",
   "metadata": {},
   "source": [
    "#Tasks 30-July\n",
    "\n",
    "1. Find out there average rating on weekly basis keep this in mind that they take two days of leave. --Done\n",
    "2. total working days for each aggent. --Done\n",
    "3. total query that you have taken. --Done\n",
    "4. total feedback that you have received. --Done\n",
    "5. A agent name who have average rating between 3.5 to 4. --Done\n",
    "6. Agent name who have average rating less than 3.5. --Done\n",
    "7. Agent name who have average rating more than 4.5. --Done\n",
    "8. how many feedback agents have received more than 4.5 average rating. --Done\n",
    "9. Average weekly responce time for each agent. --Done\n",
    "10. Average weekly resolution time fr each agent. --Done\n",
    "11. list of all agents name. --Done\n",
    "12. percentage of chat on which they have received a feedback.  --Done\n",
    "13. total contribution hour for each and every agent weekly basis. --Done\n",
    "14. total percentage of acive hour for a month. "
   ]
  },
  {
   "cell_type": "code",
   "execution_count": 1,
   "metadata": {},
   "outputs": [],
   "source": [
    "import pandas as pd"
   ]
  },
  {
   "cell_type": "code",
   "execution_count": 2,
   "metadata": {},
   "outputs": [],
   "source": [
    "#Reading AgentPerformance data\n",
    "ap = pd.read_csv(r'E:\\Ineuron_Videos\\30July Data\\AgentPerformance.csv')"
   ]
  },
  {
   "cell_type": "code",
   "execution_count": 3,
   "metadata": {},
   "outputs": [
    {
     "data": {
      "text/plain": [
       "(2160, 8)"
      ]
     },
     "execution_count": 3,
     "metadata": {},
     "output_type": "execute_result"
    }
   ],
   "source": [
    "ap.shape"
   ]
  },
  {
   "cell_type": "code",
   "execution_count": 4,
   "metadata": {},
   "outputs": [
    {
     "data": {
      "text/plain": [
       "SL No                        int64\n",
       "Date                        object\n",
       "Agent Name                  object\n",
       "Total Chats                  int64\n",
       "Average Response Time       object\n",
       "Average Resolution Time     object\n",
       "Average Rating             float64\n",
       "Total Feedback               int64\n",
       "dtype: object"
      ]
     },
     "execution_count": 4,
     "metadata": {},
     "output_type": "execute_result"
    }
   ],
   "source": [
    "ap.dtypes"
   ]
  },
  {
   "cell_type": "code",
   "execution_count": 5,
   "metadata": {},
   "outputs": [
    {
     "data": {
      "text/plain": [
       "array(['Prerna Singh', 'Nandani Gupta', 'Ameya Jain', 'Mahesh Sarade',\n",
       "       'Swati ', 'Mukesh ', 'Saikumarreddy N', 'Sanjeev Kumar',\n",
       "       'Shubham Sharma', 'Nishtha Jain', 'Manjunatha A', 'Khushboo Priya',\n",
       "       'Suraj S Bilgi', 'Harikrishnan Shaji', 'Hrisikesh Neogi',\n",
       "       'Shivan K', 'Sowmiya Sivakumar', 'Madhulika G', 'Mithun S',\n",
       "       'Hitesh Choudhary', 'Sanjeevan ', 'Anirudh ', 'Shiva Srivastava',\n",
       "       'Dibyanshu ', 'Ashish ', 'Uday Mishra', 'Aditya Shinde',\n",
       "       'Jayant Kumar', 'Aditya_iot ', 'Prabir Kumar Satapathy',\n",
       "       'Saurabh Shukla', 'Wasim ', 'Samprit ', 'Maitry ', 'Abhishek ',\n",
       "       'Rishav Dash', 'Aravind ', 'Tarun ', 'Muskan Garg', 'Ankit Sharma',\n",
       "       'Bharath ', 'Ashad Nasim', 'Vasanth P', 'Aditya ', 'Amersh ',\n",
       "       'Sandipan Saha', 'Ineuron Intelligence ', 'Mahak ', 'Mukesh Rao ',\n",
       "       'Zeeshan ', 'Anurag Tiwari', 'Ankitjha ', 'Saif Khan',\n",
       "       'Jaydeep Dixit', 'Sudhanshu Kumar', 'Maneesh ', 'Hyder Abbas',\n",
       "       'Rohan ', 'Vivek ', 'Nitin M', 'Shivan_S ', 'Spuri ',\n",
       "       'Ayushi Mishra', 'Chaitra K Hiremath', 'Prateek _iot ',\n",
       "       'Boktiar Ahmed Bappy', 'Shivananda Sonwane', 'Ishawant Kumar',\n",
       "       'Deepranjan Gupta', 'Jawala Prakash'], dtype=object)"
      ]
     },
     "execution_count": 5,
     "metadata": {},
     "output_type": "execute_result"
    }
   ],
   "source": [
    "# List of all Agents Name\n",
    "\n",
    "#ap['Agent Name'].value_counts().index\n",
    "pd.unique(ap['Agent Name'])"
   ]
  },
  {
   "cell_type": "code",
   "execution_count": 6,
   "metadata": {},
   "outputs": [
    {
     "data": {
      "text/plain": [
       "SL No                      2160\n",
       "Date                         30\n",
       "Agent Name                   70\n",
       "Total Chats                  61\n",
       "Average Response Time       144\n",
       "Average Resolution Time     612\n",
       "Average Rating              144\n",
       "Total Feedback               40\n",
       "dtype: int64"
      ]
     },
     "execution_count": 6,
     "metadata": {},
     "output_type": "execute_result"
    }
   ],
   "source": [
    "# No of unique values in each column\n",
    "ap.nunique()"
   ]
  },
  {
   "cell_type": "code",
   "execution_count": 7,
   "metadata": {},
   "outputs": [],
   "source": [
    "#Converting Date in datetime formate\n",
    "ap['converted_Date'] = pd.to_datetime(ap['Date'])"
   ]
  },
  {
   "cell_type": "code",
   "execution_count": 8,
   "metadata": {},
   "outputs": [
    {
     "data": {
      "text/plain": [
       "array(['7/30/2022', '7/29/2022', '7/28/2022', '7/27/2022', '7/26/2022',\n",
       "       '7/25/2022', '7/24/2022', '7/23/2022', '7/22/2022', '7/21/2022',\n",
       "       '7/20/2022', '7/19/2022', '7/18/2022', '7/17/2022', '7/16/2022',\n",
       "       '7/15/2022', '7/14/2022', '7/13/2022', '7/12/2022', '7/11/2022',\n",
       "       '7/10/2022', '7/9/2022', '7/8/2022', '7/7/2022', '7/6/2022',\n",
       "       '7/5/2022', '7/4/2022', '7/3/2022', '7/2/2022', '7/1/2022'],\n",
       "      dtype=object)"
      ]
     },
     "execution_count": 8,
     "metadata": {},
     "output_type": "execute_result"
    }
   ],
   "source": [
    "pd.unique(ap['Date'])"
   ]
  },
  {
   "cell_type": "code",
   "execution_count": 9,
   "metadata": {},
   "outputs": [],
   "source": [
    "ap['week']=ap['converted_Date'].dt.week"
   ]
  },
  {
   "cell_type": "code",
   "execution_count": 10,
   "metadata": {},
   "outputs": [
    {
     "data": {
      "text/plain": [
       "array([30, 29, 28, 27, 26], dtype=int64)"
      ]
     },
     "execution_count": 10,
     "metadata": {},
     "output_type": "execute_result"
    }
   ],
   "source": [
    "pd.unique(ap['week'])"
   ]
  },
  {
   "cell_type": "code",
   "execution_count": 11,
   "metadata": {},
   "outputs": [
    {
     "data": {
      "text/html": [
       "<div>\n",
       "<style scoped>\n",
       "    .dataframe tbody tr th:only-of-type {\n",
       "        vertical-align: middle;\n",
       "    }\n",
       "\n",
       "    .dataframe tbody tr th {\n",
       "        vertical-align: top;\n",
       "    }\n",
       "\n",
       "    .dataframe thead th {\n",
       "        text-align: right;\n",
       "    }\n",
       "</style>\n",
       "<table border=\"1\" class=\"dataframe\">\n",
       "  <thead>\n",
       "    <tr style=\"text-align: right;\">\n",
       "      <th></th>\n",
       "      <th>SL No</th>\n",
       "      <th>Date</th>\n",
       "      <th>Agent Name</th>\n",
       "      <th>Total Chats</th>\n",
       "      <th>Average Response Time</th>\n",
       "      <th>Average Resolution Time</th>\n",
       "      <th>Average Rating</th>\n",
       "      <th>Total Feedback</th>\n",
       "      <th>converted_Date</th>\n",
       "      <th>week</th>\n",
       "    </tr>\n",
       "  </thead>\n",
       "  <tbody>\n",
       "    <tr>\n",
       "      <th>999</th>\n",
       "      <td>1000</td>\n",
       "      <td>7/17/2022</td>\n",
       "      <td>Jawala Prakash</td>\n",
       "      <td>0</td>\n",
       "      <td>0:00:00</td>\n",
       "      <td>0:00:00</td>\n",
       "      <td>0.00</td>\n",
       "      <td>0</td>\n",
       "      <td>2022-07-17</td>\n",
       "      <td>28</td>\n",
       "    </tr>\n",
       "    <tr>\n",
       "      <th>1026</th>\n",
       "      <td>1027</td>\n",
       "      <td>7/16/2022</td>\n",
       "      <td>Jawala Prakash</td>\n",
       "      <td>44</td>\n",
       "      <td>0:07:00</td>\n",
       "      <td>0:14:42</td>\n",
       "      <td>4.21</td>\n",
       "      <td>14</td>\n",
       "      <td>2022-07-16</td>\n",
       "      <td>28</td>\n",
       "    </tr>\n",
       "    <tr>\n",
       "      <th>1094</th>\n",
       "      <td>1095</td>\n",
       "      <td>7/15/2022</td>\n",
       "      <td>Jawala Prakash</td>\n",
       "      <td>25</td>\n",
       "      <td>0:02:00</td>\n",
       "      <td>0:14:52</td>\n",
       "      <td>4.00</td>\n",
       "      <td>12</td>\n",
       "      <td>2022-07-15</td>\n",
       "      <td>28</td>\n",
       "    </tr>\n",
       "    <tr>\n",
       "      <th>1216</th>\n",
       "      <td>1217</td>\n",
       "      <td>7/14/2022</td>\n",
       "      <td>Jawala Prakash</td>\n",
       "      <td>0</td>\n",
       "      <td>0:00:00</td>\n",
       "      <td>0:00:00</td>\n",
       "      <td>0.00</td>\n",
       "      <td>0</td>\n",
       "      <td>2022-07-14</td>\n",
       "      <td>28</td>\n",
       "    </tr>\n",
       "    <tr>\n",
       "      <th>1249</th>\n",
       "      <td>1250</td>\n",
       "      <td>7/13/2022</td>\n",
       "      <td>Jawala Prakash</td>\n",
       "      <td>23</td>\n",
       "      <td>0:01:23</td>\n",
       "      <td>0:32:22</td>\n",
       "      <td>4.38</td>\n",
       "      <td>8</td>\n",
       "      <td>2022-07-13</td>\n",
       "      <td>28</td>\n",
       "    </tr>\n",
       "    <tr>\n",
       "      <th>1312</th>\n",
       "      <td>1313</td>\n",
       "      <td>7/12/2022</td>\n",
       "      <td>Jawala Prakash</td>\n",
       "      <td>23</td>\n",
       "      <td>0:01:52</td>\n",
       "      <td>0:21:12</td>\n",
       "      <td>4.29</td>\n",
       "      <td>17</td>\n",
       "      <td>2022-07-12</td>\n",
       "      <td>28</td>\n",
       "    </tr>\n",
       "    <tr>\n",
       "      <th>1435</th>\n",
       "      <td>1436</td>\n",
       "      <td>7/11/2022</td>\n",
       "      <td>Jawala Prakash</td>\n",
       "      <td>23</td>\n",
       "      <td>0:01:19</td>\n",
       "      <td>0:18:54</td>\n",
       "      <td>4.30</td>\n",
       "      <td>10</td>\n",
       "      <td>2022-07-11</td>\n",
       "      <td>28</td>\n",
       "    </tr>\n",
       "  </tbody>\n",
       "</table>\n",
       "</div>"
      ],
      "text/plain": [
       "      SL No       Date      Agent Name  Total Chats Average Response Time  \\\n",
       "999    1000  7/17/2022  Jawala Prakash            0               0:00:00   \n",
       "1026   1027  7/16/2022  Jawala Prakash           44               0:07:00   \n",
       "1094   1095  7/15/2022  Jawala Prakash           25               0:02:00   \n",
       "1216   1217  7/14/2022  Jawala Prakash            0               0:00:00   \n",
       "1249   1250  7/13/2022  Jawala Prakash           23               0:01:23   \n",
       "1312   1313  7/12/2022  Jawala Prakash           23               0:01:52   \n",
       "1435   1436  7/11/2022  Jawala Prakash           23               0:01:19   \n",
       "\n",
       "     Average Resolution Time  Average Rating  Total Feedback converted_Date  \\\n",
       "999                  0:00:00            0.00               0     2022-07-17   \n",
       "1026                 0:14:42            4.21              14     2022-07-16   \n",
       "1094                 0:14:52            4.00              12     2022-07-15   \n",
       "1216                 0:00:00            0.00               0     2022-07-14   \n",
       "1249                 0:32:22            4.38               8     2022-07-13   \n",
       "1312                 0:21:12            4.29              17     2022-07-12   \n",
       "1435                 0:18:54            4.30              10     2022-07-11   \n",
       "\n",
       "      week  \n",
       "999     28  \n",
       "1026    28  \n",
       "1094    28  \n",
       "1216    28  \n",
       "1249    28  \n",
       "1312    28  \n",
       "1435    28  "
      ]
     },
     "execution_count": 11,
     "metadata": {},
     "output_type": "execute_result"
    }
   ],
   "source": [
    "ap[(ap['week']==28) & (ap['Agent Name'] == 'Jawala Prakash')]"
   ]
  },
  {
   "cell_type": "code",
   "execution_count": 12,
   "metadata": {},
   "outputs": [
    {
     "data": {
      "text/html": [
       "<div>\n",
       "<style scoped>\n",
       "    .dataframe tbody tr th:only-of-type {\n",
       "        vertical-align: middle;\n",
       "    }\n",
       "\n",
       "    .dataframe tbody tr th {\n",
       "        vertical-align: top;\n",
       "    }\n",
       "\n",
       "    .dataframe thead th {\n",
       "        text-align: right;\n",
       "    }\n",
       "</style>\n",
       "<table border=\"1\" class=\"dataframe\">\n",
       "  <thead>\n",
       "    <tr style=\"text-align: right;\">\n",
       "      <th></th>\n",
       "      <th>SL No</th>\n",
       "      <th>Date</th>\n",
       "      <th>Agent Name</th>\n",
       "      <th>Total Chats</th>\n",
       "      <th>Average Response Time</th>\n",
       "      <th>Average Resolution Time</th>\n",
       "      <th>Average Rating</th>\n",
       "      <th>Total Feedback</th>\n",
       "      <th>converted_Date</th>\n",
       "      <th>week</th>\n",
       "    </tr>\n",
       "  </thead>\n",
       "  <tbody>\n",
       "    <tr>\n",
       "      <th>0</th>\n",
       "      <td>1</td>\n",
       "      <td>7/30/2022</td>\n",
       "      <td>Prerna Singh</td>\n",
       "      <td>11</td>\n",
       "      <td>0:00:38</td>\n",
       "      <td>0:04:20</td>\n",
       "      <td>4.11</td>\n",
       "      <td>9</td>\n",
       "      <td>2022-07-30</td>\n",
       "      <td>30</td>\n",
       "    </tr>\n",
       "    <tr>\n",
       "      <th>1</th>\n",
       "      <td>2</td>\n",
       "      <td>7/30/2022</td>\n",
       "      <td>Nandani Gupta</td>\n",
       "      <td>11</td>\n",
       "      <td>0:01:15</td>\n",
       "      <td>0:28:25</td>\n",
       "      <td>3.14</td>\n",
       "      <td>7</td>\n",
       "      <td>2022-07-30</td>\n",
       "      <td>30</td>\n",
       "    </tr>\n",
       "    <tr>\n",
       "      <th>2</th>\n",
       "      <td>3</td>\n",
       "      <td>7/30/2022</td>\n",
       "      <td>Ameya Jain</td>\n",
       "      <td>14</td>\n",
       "      <td>0:00:30</td>\n",
       "      <td>0:11:36</td>\n",
       "      <td>4.55</td>\n",
       "      <td>11</td>\n",
       "      <td>2022-07-30</td>\n",
       "      <td>30</td>\n",
       "    </tr>\n",
       "    <tr>\n",
       "      <th>3</th>\n",
       "      <td>4</td>\n",
       "      <td>7/30/2022</td>\n",
       "      <td>Mahesh Sarade</td>\n",
       "      <td>14</td>\n",
       "      <td>0:01:04</td>\n",
       "      <td>0:15:46</td>\n",
       "      <td>4.71</td>\n",
       "      <td>7</td>\n",
       "      <td>2022-07-30</td>\n",
       "      <td>30</td>\n",
       "    </tr>\n",
       "    <tr>\n",
       "      <th>4</th>\n",
       "      <td>5</td>\n",
       "      <td>7/30/2022</td>\n",
       "      <td>Swati</td>\n",
       "      <td>14</td>\n",
       "      <td>0:01:11</td>\n",
       "      <td>0:16:33</td>\n",
       "      <td>3.67</td>\n",
       "      <td>6</td>\n",
       "      <td>2022-07-30</td>\n",
       "      <td>30</td>\n",
       "    </tr>\n",
       "    <tr>\n",
       "      <th>...</th>\n",
       "      <td>...</td>\n",
       "      <td>...</td>\n",
       "      <td>...</td>\n",
       "      <td>...</td>\n",
       "      <td>...</td>\n",
       "      <td>...</td>\n",
       "      <td>...</td>\n",
       "      <td>...</td>\n",
       "      <td>...</td>\n",
       "      <td>...</td>\n",
       "    </tr>\n",
       "    <tr>\n",
       "      <th>2155</th>\n",
       "      <td>2156</td>\n",
       "      <td>7/1/2022</td>\n",
       "      <td>Sowmiya Sivakumar</td>\n",
       "      <td>0</td>\n",
       "      <td>0:00:00</td>\n",
       "      <td>0:00:00</td>\n",
       "      <td>0.00</td>\n",
       "      <td>0</td>\n",
       "      <td>2022-07-01</td>\n",
       "      <td>26</td>\n",
       "    </tr>\n",
       "    <tr>\n",
       "      <th>2156</th>\n",
       "      <td>2157</td>\n",
       "      <td>7/1/2022</td>\n",
       "      <td>Nitin M</td>\n",
       "      <td>0</td>\n",
       "      <td>0:00:00</td>\n",
       "      <td>0:00:00</td>\n",
       "      <td>0.00</td>\n",
       "      <td>0</td>\n",
       "      <td>2022-07-01</td>\n",
       "      <td>26</td>\n",
       "    </tr>\n",
       "    <tr>\n",
       "      <th>2157</th>\n",
       "      <td>2158</td>\n",
       "      <td>7/1/2022</td>\n",
       "      <td>Vivek</td>\n",
       "      <td>0</td>\n",
       "      <td>0:00:00</td>\n",
       "      <td>0:00:00</td>\n",
       "      <td>0.00</td>\n",
       "      <td>0</td>\n",
       "      <td>2022-07-01</td>\n",
       "      <td>26</td>\n",
       "    </tr>\n",
       "    <tr>\n",
       "      <th>2158</th>\n",
       "      <td>2159</td>\n",
       "      <td>7/1/2022</td>\n",
       "      <td>Ayushi Mishra</td>\n",
       "      <td>0</td>\n",
       "      <td>0:00:00</td>\n",
       "      <td>0:00:00</td>\n",
       "      <td>0.00</td>\n",
       "      <td>0</td>\n",
       "      <td>2022-07-01</td>\n",
       "      <td>26</td>\n",
       "    </tr>\n",
       "    <tr>\n",
       "      <th>2159</th>\n",
       "      <td>2160</td>\n",
       "      <td>7/1/2022</td>\n",
       "      <td>Chaitra K Hiremath</td>\n",
       "      <td>0</td>\n",
       "      <td>0:00:00</td>\n",
       "      <td>0:00:00</td>\n",
       "      <td>0.00</td>\n",
       "      <td>0</td>\n",
       "      <td>2022-07-01</td>\n",
       "      <td>26</td>\n",
       "    </tr>\n",
       "  </tbody>\n",
       "</table>\n",
       "<p>2160 rows × 10 columns</p>\n",
       "</div>"
      ],
      "text/plain": [
       "      SL No       Date          Agent Name  Total Chats Average Response Time  \\\n",
       "0         1  7/30/2022        Prerna Singh           11               0:00:38   \n",
       "1         2  7/30/2022       Nandani Gupta           11               0:01:15   \n",
       "2         3  7/30/2022          Ameya Jain           14               0:00:30   \n",
       "3         4  7/30/2022       Mahesh Sarade           14               0:01:04   \n",
       "4         5  7/30/2022              Swati            14               0:01:11   \n",
       "...     ...        ...                 ...          ...                   ...   \n",
       "2155   2156   7/1/2022   Sowmiya Sivakumar            0               0:00:00   \n",
       "2156   2157   7/1/2022             Nitin M            0               0:00:00   \n",
       "2157   2158   7/1/2022              Vivek             0               0:00:00   \n",
       "2158   2159   7/1/2022       Ayushi Mishra            0               0:00:00   \n",
       "2159   2160   7/1/2022  Chaitra K Hiremath            0               0:00:00   \n",
       "\n",
       "     Average Resolution Time  Average Rating  Total Feedback converted_Date  \\\n",
       "0                    0:04:20            4.11               9     2022-07-30   \n",
       "1                    0:28:25            3.14               7     2022-07-30   \n",
       "2                    0:11:36            4.55              11     2022-07-30   \n",
       "3                    0:15:46            4.71               7     2022-07-30   \n",
       "4                    0:16:33            3.67               6     2022-07-30   \n",
       "...                      ...             ...             ...            ...   \n",
       "2155                 0:00:00            0.00               0     2022-07-01   \n",
       "2156                 0:00:00            0.00               0     2022-07-01   \n",
       "2157                 0:00:00            0.00               0     2022-07-01   \n",
       "2158                 0:00:00            0.00               0     2022-07-01   \n",
       "2159                 0:00:00            0.00               0     2022-07-01   \n",
       "\n",
       "      week  \n",
       "0       30  \n",
       "1       30  \n",
       "2       30  \n",
       "3       30  \n",
       "4       30  \n",
       "...    ...  \n",
       "2155    26  \n",
       "2156    26  \n",
       "2157    26  \n",
       "2158    26  \n",
       "2159    26  \n",
       "\n",
       "[2160 rows x 10 columns]"
      ]
     },
     "execution_count": 12,
     "metadata": {},
     "output_type": "execute_result"
    }
   ],
   "source": [
    "#observation if chats are Zero then assume Agent on leave\n",
    "ap"
   ]
  },
  {
   "cell_type": "code",
   "execution_count": 13,
   "metadata": {},
   "outputs": [],
   "source": [
    "#drop all rows having chats is Zero (assumed Agent on leave)\n",
    "ap1=ap.drop(ap[ap['Total Chats'] == 0].index)"
   ]
  },
  {
   "cell_type": "code",
   "execution_count": 14,
   "metadata": {},
   "outputs": [
    {
     "data": {
      "text/html": [
       "<div>\n",
       "<style scoped>\n",
       "    .dataframe tbody tr th:only-of-type {\n",
       "        vertical-align: middle;\n",
       "    }\n",
       "\n",
       "    .dataframe tbody tr th {\n",
       "        vertical-align: top;\n",
       "    }\n",
       "\n",
       "    .dataframe thead th {\n",
       "        text-align: right;\n",
       "    }\n",
       "</style>\n",
       "<table border=\"1\" class=\"dataframe\">\n",
       "  <thead>\n",
       "    <tr style=\"text-align: right;\">\n",
       "      <th></th>\n",
       "      <th>SL No</th>\n",
       "      <th>Date</th>\n",
       "      <th>Agent Name</th>\n",
       "      <th>Total Chats</th>\n",
       "      <th>Average Response Time</th>\n",
       "      <th>Average Resolution Time</th>\n",
       "      <th>Average Rating</th>\n",
       "      <th>Total Feedback</th>\n",
       "      <th>converted_Date</th>\n",
       "      <th>week</th>\n",
       "    </tr>\n",
       "  </thead>\n",
       "  <tbody>\n",
       "    <tr>\n",
       "      <th>0</th>\n",
       "      <td>1</td>\n",
       "      <td>7/30/2022</td>\n",
       "      <td>Prerna Singh</td>\n",
       "      <td>11</td>\n",
       "      <td>0:00:38</td>\n",
       "      <td>0:04:20</td>\n",
       "      <td>4.11</td>\n",
       "      <td>9</td>\n",
       "      <td>2022-07-30</td>\n",
       "      <td>30</td>\n",
       "    </tr>\n",
       "    <tr>\n",
       "      <th>1</th>\n",
       "      <td>2</td>\n",
       "      <td>7/30/2022</td>\n",
       "      <td>Nandani Gupta</td>\n",
       "      <td>11</td>\n",
       "      <td>0:01:15</td>\n",
       "      <td>0:28:25</td>\n",
       "      <td>3.14</td>\n",
       "      <td>7</td>\n",
       "      <td>2022-07-30</td>\n",
       "      <td>30</td>\n",
       "    </tr>\n",
       "    <tr>\n",
       "      <th>2</th>\n",
       "      <td>3</td>\n",
       "      <td>7/30/2022</td>\n",
       "      <td>Ameya Jain</td>\n",
       "      <td>14</td>\n",
       "      <td>0:00:30</td>\n",
       "      <td>0:11:36</td>\n",
       "      <td>4.55</td>\n",
       "      <td>11</td>\n",
       "      <td>2022-07-30</td>\n",
       "      <td>30</td>\n",
       "    </tr>\n",
       "    <tr>\n",
       "      <th>3</th>\n",
       "      <td>4</td>\n",
       "      <td>7/30/2022</td>\n",
       "      <td>Mahesh Sarade</td>\n",
       "      <td>14</td>\n",
       "      <td>0:01:04</td>\n",
       "      <td>0:15:46</td>\n",
       "      <td>4.71</td>\n",
       "      <td>7</td>\n",
       "      <td>2022-07-30</td>\n",
       "      <td>30</td>\n",
       "    </tr>\n",
       "    <tr>\n",
       "      <th>4</th>\n",
       "      <td>5</td>\n",
       "      <td>7/30/2022</td>\n",
       "      <td>Swati</td>\n",
       "      <td>14</td>\n",
       "      <td>0:01:11</td>\n",
       "      <td>0:16:33</td>\n",
       "      <td>3.67</td>\n",
       "      <td>6</td>\n",
       "      <td>2022-07-30</td>\n",
       "      <td>30</td>\n",
       "    </tr>\n",
       "    <tr>\n",
       "      <th>...</th>\n",
       "      <td>...</td>\n",
       "      <td>...</td>\n",
       "      <td>...</td>\n",
       "      <td>...</td>\n",
       "      <td>...</td>\n",
       "      <td>...</td>\n",
       "      <td>...</td>\n",
       "      <td>...</td>\n",
       "      <td>...</td>\n",
       "      <td>...</td>\n",
       "    </tr>\n",
       "    <tr>\n",
       "      <th>2101</th>\n",
       "      <td>2102</td>\n",
       "      <td>7/1/2022</td>\n",
       "      <td>Jaydeep Dixit</td>\n",
       "      <td>25</td>\n",
       "      <td>0:01:15</td>\n",
       "      <td>0:26:27</td>\n",
       "      <td>4.77</td>\n",
       "      <td>13</td>\n",
       "      <td>2022-07-01</td>\n",
       "      <td>26</td>\n",
       "    </tr>\n",
       "    <tr>\n",
       "      <th>2102</th>\n",
       "      <td>2103</td>\n",
       "      <td>7/1/2022</td>\n",
       "      <td>Shivananda Sonwane</td>\n",
       "      <td>23</td>\n",
       "      <td>0:01:24</td>\n",
       "      <td>0:30:14</td>\n",
       "      <td>4.86</td>\n",
       "      <td>14</td>\n",
       "      <td>2022-07-01</td>\n",
       "      <td>26</td>\n",
       "    </tr>\n",
       "    <tr>\n",
       "      <th>2103</th>\n",
       "      <td>2104</td>\n",
       "      <td>7/1/2022</td>\n",
       "      <td>Khushboo Priya</td>\n",
       "      <td>24</td>\n",
       "      <td>0:01:46</td>\n",
       "      <td>0:29:28</td>\n",
       "      <td>4.61</td>\n",
       "      <td>18</td>\n",
       "      <td>2022-07-01</td>\n",
       "      <td>26</td>\n",
       "    </tr>\n",
       "    <tr>\n",
       "      <th>2104</th>\n",
       "      <td>2105</td>\n",
       "      <td>7/1/2022</td>\n",
       "      <td>Hrisikesh Neogi</td>\n",
       "      <td>15</td>\n",
       "      <td>0:01:05</td>\n",
       "      <td>0:25:29</td>\n",
       "      <td>4.56</td>\n",
       "      <td>9</td>\n",
       "      <td>2022-07-01</td>\n",
       "      <td>26</td>\n",
       "    </tr>\n",
       "    <tr>\n",
       "      <th>2105</th>\n",
       "      <td>2106</td>\n",
       "      <td>7/1/2022</td>\n",
       "      <td>Tarun</td>\n",
       "      <td>22</td>\n",
       "      <td>0:00:00</td>\n",
       "      <td>0:45:14</td>\n",
       "      <td>1.50</td>\n",
       "      <td>6</td>\n",
       "      <td>2022-07-01</td>\n",
       "      <td>26</td>\n",
       "    </tr>\n",
       "  </tbody>\n",
       "</table>\n",
       "<p>745 rows × 10 columns</p>\n",
       "</div>"
      ],
      "text/plain": [
       "      SL No       Date          Agent Name  Total Chats Average Response Time  \\\n",
       "0         1  7/30/2022        Prerna Singh           11               0:00:38   \n",
       "1         2  7/30/2022       Nandani Gupta           11               0:01:15   \n",
       "2         3  7/30/2022          Ameya Jain           14               0:00:30   \n",
       "3         4  7/30/2022       Mahesh Sarade           14               0:01:04   \n",
       "4         5  7/30/2022              Swati            14               0:01:11   \n",
       "...     ...        ...                 ...          ...                   ...   \n",
       "2101   2102   7/1/2022       Jaydeep Dixit           25               0:01:15   \n",
       "2102   2103   7/1/2022  Shivananda Sonwane           23               0:01:24   \n",
       "2103   2104   7/1/2022      Khushboo Priya           24               0:01:46   \n",
       "2104   2105   7/1/2022     Hrisikesh Neogi           15               0:01:05   \n",
       "2105   2106   7/1/2022              Tarun            22               0:00:00   \n",
       "\n",
       "     Average Resolution Time  Average Rating  Total Feedback converted_Date  \\\n",
       "0                    0:04:20            4.11               9     2022-07-30   \n",
       "1                    0:28:25            3.14               7     2022-07-30   \n",
       "2                    0:11:36            4.55              11     2022-07-30   \n",
       "3                    0:15:46            4.71               7     2022-07-30   \n",
       "4                    0:16:33            3.67               6     2022-07-30   \n",
       "...                      ...             ...             ...            ...   \n",
       "2101                 0:26:27            4.77              13     2022-07-01   \n",
       "2102                 0:30:14            4.86              14     2022-07-01   \n",
       "2103                 0:29:28            4.61              18     2022-07-01   \n",
       "2104                 0:25:29            4.56               9     2022-07-01   \n",
       "2105                 0:45:14            1.50               6     2022-07-01   \n",
       "\n",
       "      week  \n",
       "0       30  \n",
       "1       30  \n",
       "2       30  \n",
       "3       30  \n",
       "4       30  \n",
       "...    ...  \n",
       "2101    26  \n",
       "2102    26  \n",
       "2103    26  \n",
       "2104    26  \n",
       "2105    26  \n",
       "\n",
       "[745 rows x 10 columns]"
      ]
     },
     "execution_count": 14,
     "metadata": {},
     "output_type": "execute_result"
    }
   ],
   "source": [
    "ap1"
   ]
  },
  {
   "cell_type": "code",
   "execution_count": 15,
   "metadata": {},
   "outputs": [
    {
     "data": {
      "text/html": [
       "<div>\n",
       "<style scoped>\n",
       "    .dataframe tbody tr th:only-of-type {\n",
       "        vertical-align: middle;\n",
       "    }\n",
       "\n",
       "    .dataframe tbody tr th {\n",
       "        vertical-align: top;\n",
       "    }\n",
       "\n",
       "    .dataframe thead th {\n",
       "        text-align: right;\n",
       "    }\n",
       "</style>\n",
       "<table border=\"1\" class=\"dataframe\">\n",
       "  <thead>\n",
       "    <tr style=\"text-align: right;\">\n",
       "      <th></th>\n",
       "      <th>SL No</th>\n",
       "      <th>Date</th>\n",
       "      <th>Agent Name</th>\n",
       "      <th>Total Chats</th>\n",
       "      <th>Average Response Time</th>\n",
       "      <th>Average Resolution Time</th>\n",
       "      <th>Average Rating</th>\n",
       "      <th>Total Feedback</th>\n",
       "      <th>converted_Date</th>\n",
       "      <th>week</th>\n",
       "    </tr>\n",
       "  </thead>\n",
       "  <tbody>\n",
       "    <tr>\n",
       "      <th>1026</th>\n",
       "      <td>1027</td>\n",
       "      <td>7/16/2022</td>\n",
       "      <td>Jawala Prakash</td>\n",
       "      <td>44</td>\n",
       "      <td>0:07:00</td>\n",
       "      <td>0:14:42</td>\n",
       "      <td>4.21</td>\n",
       "      <td>14</td>\n",
       "      <td>2022-07-16</td>\n",
       "      <td>28</td>\n",
       "    </tr>\n",
       "    <tr>\n",
       "      <th>1094</th>\n",
       "      <td>1095</td>\n",
       "      <td>7/15/2022</td>\n",
       "      <td>Jawala Prakash</td>\n",
       "      <td>25</td>\n",
       "      <td>0:02:00</td>\n",
       "      <td>0:14:52</td>\n",
       "      <td>4.00</td>\n",
       "      <td>12</td>\n",
       "      <td>2022-07-15</td>\n",
       "      <td>28</td>\n",
       "    </tr>\n",
       "    <tr>\n",
       "      <th>1249</th>\n",
       "      <td>1250</td>\n",
       "      <td>7/13/2022</td>\n",
       "      <td>Jawala Prakash</td>\n",
       "      <td>23</td>\n",
       "      <td>0:01:23</td>\n",
       "      <td>0:32:22</td>\n",
       "      <td>4.38</td>\n",
       "      <td>8</td>\n",
       "      <td>2022-07-13</td>\n",
       "      <td>28</td>\n",
       "    </tr>\n",
       "    <tr>\n",
       "      <th>1312</th>\n",
       "      <td>1313</td>\n",
       "      <td>7/12/2022</td>\n",
       "      <td>Jawala Prakash</td>\n",
       "      <td>23</td>\n",
       "      <td>0:01:52</td>\n",
       "      <td>0:21:12</td>\n",
       "      <td>4.29</td>\n",
       "      <td>17</td>\n",
       "      <td>2022-07-12</td>\n",
       "      <td>28</td>\n",
       "    </tr>\n",
       "    <tr>\n",
       "      <th>1435</th>\n",
       "      <td>1436</td>\n",
       "      <td>7/11/2022</td>\n",
       "      <td>Jawala Prakash</td>\n",
       "      <td>23</td>\n",
       "      <td>0:01:19</td>\n",
       "      <td>0:18:54</td>\n",
       "      <td>4.30</td>\n",
       "      <td>10</td>\n",
       "      <td>2022-07-11</td>\n",
       "      <td>28</td>\n",
       "    </tr>\n",
       "  </tbody>\n",
       "</table>\n",
       "</div>"
      ],
      "text/plain": [
       "      SL No       Date      Agent Name  Total Chats Average Response Time  \\\n",
       "1026   1027  7/16/2022  Jawala Prakash           44               0:07:00   \n",
       "1094   1095  7/15/2022  Jawala Prakash           25               0:02:00   \n",
       "1249   1250  7/13/2022  Jawala Prakash           23               0:01:23   \n",
       "1312   1313  7/12/2022  Jawala Prakash           23               0:01:52   \n",
       "1435   1436  7/11/2022  Jawala Prakash           23               0:01:19   \n",
       "\n",
       "     Average Resolution Time  Average Rating  Total Feedback converted_Date  \\\n",
       "1026                 0:14:42            4.21              14     2022-07-16   \n",
       "1094                 0:14:52            4.00              12     2022-07-15   \n",
       "1249                 0:32:22            4.38               8     2022-07-13   \n",
       "1312                 0:21:12            4.29              17     2022-07-12   \n",
       "1435                 0:18:54            4.30              10     2022-07-11   \n",
       "\n",
       "      week  \n",
       "1026    28  \n",
       "1094    28  \n",
       "1249    28  \n",
       "1312    28  \n",
       "1435    28  "
      ]
     },
     "execution_count": 15,
     "metadata": {},
     "output_type": "execute_result"
    }
   ],
   "source": [
    "ap1[(ap1['week']==28) & (ap1['Agent Name'] == 'Jawala Prakash')]"
   ]
  },
  {
   "cell_type": "code",
   "execution_count": 16,
   "metadata": {},
   "outputs": [
    {
     "data": {
      "text/plain": [
       "Agent Name     week\n",
       "Aditya Shinde  26       91\n",
       "               27       87\n",
       "               28       99\n",
       "Aditya_iot     27       16\n",
       "               28       72\n",
       "                      ... \n",
       "Wasim          30      144\n",
       "Zeeshan        27       45\n",
       "               28      194\n",
       "               29      157\n",
       "               30      146\n",
       "Name: Total Chats, Length: 182, dtype: int64"
      ]
     },
     "execution_count": 16,
     "metadata": {},
     "output_type": "execute_result"
    }
   ],
   "source": [
    "#weekly total chats\n",
    "ap1.groupby(['Agent Name','week'])['Total Chats'].sum()"
   ]
  },
  {
   "cell_type": "code",
   "execution_count": 17,
   "metadata": {},
   "outputs": [
    {
     "data": {
      "text/plain": [
       "Agent Name\n",
       "Aditya Shinde    12\n",
       "Aditya_iot       17\n",
       "Ameya Jain       15\n",
       "Anirudh           7\n",
       "Ankitjha          3\n",
       "Name: Total Chats, dtype: int64"
      ]
     },
     "execution_count": 17,
     "metadata": {},
     "output_type": "execute_result"
    }
   ],
   "source": [
    "#No of days Present\n",
    "l1 = ap1.groupby(['Agent Name'])['Total Chats'].count()\n",
    "l1.head()"
   ]
  },
  {
   "cell_type": "code",
   "execution_count": 18,
   "metadata": {},
   "outputs": [
    {
     "data": {
      "text/plain": [
       "Agent Name\n",
       "Aditya Shinde    277\n",
       "Aditya_iot       231\n",
       "Ameya Jain       322\n",
       "Anirudh           81\n",
       "Ankitjha           5\n",
       "Name: Total Chats, dtype: int64"
      ]
     },
     "execution_count": 18,
     "metadata": {},
     "output_type": "execute_result"
    }
   ],
   "source": [
    "#Total Query by each agent\n",
    "l2 = ap1.groupby('Agent Name')['Total Chats'].sum()\n",
    "l2.head()"
   ]
  },
  {
   "cell_type": "code",
   "execution_count": 19,
   "metadata": {},
   "outputs": [
    {
     "data": {
      "text/plain": [
       "Agent Name\n",
       "Aditya Shinde    153\n",
       "Aditya_iot       131\n",
       "Ameya Jain       228\n",
       "Anirudh           39\n",
       "Ankitjha           3\n",
       "Name: Total Feedback, dtype: int64"
      ]
     },
     "execution_count": 19,
     "metadata": {},
     "output_type": "execute_result"
    }
   ],
   "source": [
    "#Total Feedback received by each agent\n",
    "l3=ap1.groupby('Agent Name')['Total Feedback'].sum()\n",
    "l3.head()"
   ]
  },
  {
   "cell_type": "code",
   "execution_count": 20,
   "metadata": {},
   "outputs": [
    {
     "data": {
      "text/plain": [
       "Agent Name\n",
       "Aditya Shinde    55.234657\n",
       "Aditya_iot       56.709957\n",
       "Ameya Jain       70.807453\n",
       "Anirudh          48.148148\n",
       "Ankitjha         60.000000\n",
       "dtype: float64"
      ]
     },
     "execution_count": 20,
     "metadata": {},
     "output_type": "execute_result"
    }
   ],
   "source": [
    "#Percentage of feedback on query\n",
    "((l3 / l2 )*100).head()"
   ]
  },
  {
   "cell_type": "code",
   "execution_count": 21,
   "metadata": {},
   "outputs": [
    {
     "data": {
      "text/plain": [
       "Agent Name\n",
       "Aditya Shinde    54.01\n",
       "Aditya_iot       70.36\n",
       "Ameya Jain       66.59\n",
       "Anirudh          19.35\n",
       "Ankitjha          8.00\n",
       "Name: Average Rating, dtype: float64"
      ]
     },
     "execution_count": 21,
     "metadata": {},
     "output_type": "execute_result"
    }
   ],
   "source": [
    "l4=ap1.groupby('Agent Name')['Average Rating'].sum()\n",
    "l4.head()"
   ]
  },
  {
   "cell_type": "code",
   "execution_count": 22,
   "metadata": {},
   "outputs": [
    {
     "data": {
      "text/plain": [
       "Agent Name\n",
       "Aditya Shinde    4.500833\n",
       "Aditya_iot       4.138824\n",
       "Ameya Jain       4.439333\n",
       "Anirudh          2.764286\n",
       "Ankitjha         2.666667\n",
       "dtype: float64"
      ]
     },
     "execution_count": 22,
     "metadata": {},
     "output_type": "execute_result"
    }
   ],
   "source": [
    "#Average Rating for each Agent\n",
    "l5 = l4/l1\n",
    "l5.head()"
   ]
  },
  {
   "cell_type": "code",
   "execution_count": 23,
   "metadata": {},
   "outputs": [
    {
     "data": {
      "text/plain": [
       "Agent Name\n",
       "Sudhanshu Kumar    5.0\n",
       "dtype: float64"
      ]
     },
     "execution_count": 23,
     "metadata": {},
     "output_type": "execute_result"
    }
   ],
   "source": [
    "#Agent having Maximum rating \n",
    "l5[l5 ==l5.max()]"
   ]
  },
  {
   "cell_type": "code",
   "execution_count": 24,
   "metadata": {},
   "outputs": [
    {
     "data": {
      "text/plain": [
       "Agent Name\n",
       "Mithun S    3.931667\n",
       "Shivan K    3.874545\n",
       "dtype: float64"
      ]
     },
     "execution_count": 24,
     "metadata": {},
     "output_type": "execute_result"
    }
   ],
   "source": [
    "l5[(l5>=3.5) & (l5 <4)]"
   ]
  },
  {
   "cell_type": "code",
   "execution_count": 25,
   "metadata": {},
   "outputs": [
    {
     "data": {
      "text/plain": [
       "Agent Name\n",
       "Anirudh             2.764286\n",
       "Ankitjha            2.666667\n",
       "Anurag Tiwari       2.750000\n",
       "Ashad Nasim         2.500000\n",
       "Dibyanshu           0.000000\n",
       "Hitesh Choudhary    0.000000\n",
       "Mahak               3.000000\n",
       "Maneesh             1.666667\n",
       "Mukesh Rao          2.556667\n",
       "Samprit             0.000000\n",
       "Tarun               1.500000\n",
       "Vivek               3.004000\n",
       "dtype: float64"
      ]
     },
     "execution_count": 25,
     "metadata": {},
     "output_type": "execute_result"
    }
   ],
   "source": [
    "l5[(l5<3.5)]"
   ]
  },
  {
   "cell_type": "code",
   "execution_count": 26,
   "metadata": {},
   "outputs": [
    {
     "data": {
      "text/plain": [
       "Agent Name\n",
       "Aditya Shinde         4.500833\n",
       "Aravind               4.674286\n",
       "Bharath               4.711053\n",
       "Jaydeep Dixit         4.524286\n",
       "Mukesh                4.645000\n",
       "Saikumarreddy N       4.570000\n",
       "Shivananda Sonwane    4.535000\n",
       "Shubham Sharma        4.607619\n",
       "Sudhanshu Kumar       5.000000\n",
       "Suraj S Bilgi         4.680000\n",
       "Wasim                 4.500000\n",
       "dtype: float64"
      ]
     },
     "execution_count": 26,
     "metadata": {},
     "output_type": "execute_result"
    }
   ],
   "source": [
    "l5[(l5>=4.5)]"
   ]
  },
  {
   "cell_type": "code",
   "execution_count": 27,
   "metadata": {},
   "outputs": [
    {
     "data": {
      "text/plain": [
       "Agent Name     week\n",
       "Aditya Shinde  26       7.70\n",
       "               27      22.58\n",
       "               28      23.73\n",
       "Aditya_iot     27       8.63\n",
       "               28      20.50\n",
       "                       ...  \n",
       "Wasim          30      21.49\n",
       "Zeeshan        27       9.15\n",
       "               28      20.64\n",
       "               29      22.26\n",
       "               30      16.56\n",
       "Name: Average Rating, Length: 182, dtype: float64"
      ]
     },
     "execution_count": 27,
     "metadata": {},
     "output_type": "execute_result"
    }
   ],
   "source": [
    "l6 =ap1.groupby(['Agent Name','week'])['Average Rating'].sum()\n",
    "l6"
   ]
  },
  {
   "cell_type": "code",
   "execution_count": 28,
   "metadata": {},
   "outputs": [
    {
     "data": {
      "text/plain": [
       "Agent Name     week\n",
       "Aditya Shinde  26      2\n",
       "               27      5\n",
       "               28      5\n",
       "Aditya_iot     27      2\n",
       "               28      5\n",
       "                      ..\n",
       "Wasim          30      5\n",
       "Zeeshan        27      2\n",
       "               28      5\n",
       "               29      5\n",
       "               30      4\n",
       "Name: Average Rating, Length: 182, dtype: int64"
      ]
     },
     "execution_count": 28,
     "metadata": {},
     "output_type": "execute_result"
    }
   ],
   "source": [
    "l7 = ap1.groupby(['Agent Name','week'])['Average Rating'].count()\n",
    "l7"
   ]
  },
  {
   "cell_type": "code",
   "execution_count": 29,
   "metadata": {},
   "outputs": [
    {
     "data": {
      "text/plain": [
       "Agent Name     week\n",
       "Aditya Shinde  26      3.850\n",
       "               27      4.516\n",
       "               28      4.746\n",
       "Aditya_iot     27      4.315\n",
       "               28      4.100\n",
       "                       ...  \n",
       "Wasim          30      4.298\n",
       "Zeeshan        27      4.575\n",
       "               28      4.128\n",
       "               29      4.452\n",
       "               30      4.140\n",
       "Name: Average Rating, Length: 182, dtype: float64"
      ]
     },
     "execution_count": 29,
     "metadata": {},
     "output_type": "execute_result"
    }
   ],
   "source": [
    "#Average Weekly rating for each Agent\n",
    "l8 = l6/l7\n",
    "l8"
   ]
  },
  {
   "cell_type": "code",
   "execution_count": 30,
   "metadata": {},
   "outputs": [
    {
     "data": {
      "text/plain": [
       "Agent Name     week\n",
       "Aditya Shinde  26                           0:01:200:01:26\n",
       "               27      0:01:140:00:420:01:050:01:060:01:24\n",
       "               28      0:01:030:01:160:01:540:01:260:00:56\n",
       "Aditya_iot     27                           0:00:320:01:49\n",
       "               28      0:01:110:00:400:00:480:02:070:01:18\n",
       "                                      ...                 \n",
       "Wasim          30      0:00:430:01:150:01:050:01:170:00:43\n",
       "Zeeshan        27                           0:01:230:01:22\n",
       "               28      0:03:490:03:160:03:420:01:440:01:53\n",
       "               29      0:01:210:01:330:01:290:01:200:01:37\n",
       "               30             0:01:300:01:480:01:440:01:21\n",
       "Name: Average Response Time, Length: 182, dtype: object"
      ]
     },
     "execution_count": 30,
     "metadata": {},
     "output_type": "execute_result"
    }
   ],
   "source": [
    "ap1.groupby(['Agent Name','week'])['Average Response Time'].sum()"
   ]
  },
  {
   "cell_type": "code",
   "execution_count": 31,
   "metadata": {},
   "outputs": [],
   "source": [
    "ap1['Average Response Time']= pd.to_timedelta(ap1['Average Response Time'])"
   ]
  },
  {
   "cell_type": "code",
   "execution_count": 32,
   "metadata": {},
   "outputs": [],
   "source": [
    "ap1['Average Resolution Time']= pd.to_timedelta(ap1['Average Resolution Time'])"
   ]
  },
  {
   "cell_type": "code",
   "execution_count": 33,
   "metadata": {},
   "outputs": [
    {
     "data": {
      "text/html": [
       "<div>\n",
       "<style scoped>\n",
       "    .dataframe tbody tr th:only-of-type {\n",
       "        vertical-align: middle;\n",
       "    }\n",
       "\n",
       "    .dataframe tbody tr th {\n",
       "        vertical-align: top;\n",
       "    }\n",
       "\n",
       "    .dataframe thead th {\n",
       "        text-align: right;\n",
       "    }\n",
       "</style>\n",
       "<table border=\"1\" class=\"dataframe\">\n",
       "  <thead>\n",
       "    <tr style=\"text-align: right;\">\n",
       "      <th></th>\n",
       "      <th>SL No</th>\n",
       "      <th>Date</th>\n",
       "      <th>Agent Name</th>\n",
       "      <th>Total Chats</th>\n",
       "      <th>Average Response Time</th>\n",
       "      <th>Average Resolution Time</th>\n",
       "      <th>Average Rating</th>\n",
       "      <th>Total Feedback</th>\n",
       "      <th>converted_Date</th>\n",
       "      <th>week</th>\n",
       "    </tr>\n",
       "  </thead>\n",
       "  <tbody>\n",
       "    <tr>\n",
       "      <th>0</th>\n",
       "      <td>1</td>\n",
       "      <td>7/30/2022</td>\n",
       "      <td>Prerna Singh</td>\n",
       "      <td>11</td>\n",
       "      <td>00:00:38</td>\n",
       "      <td>00:04:20</td>\n",
       "      <td>4.11</td>\n",
       "      <td>9</td>\n",
       "      <td>2022-07-30</td>\n",
       "      <td>30</td>\n",
       "    </tr>\n",
       "    <tr>\n",
       "      <th>1</th>\n",
       "      <td>2</td>\n",
       "      <td>7/30/2022</td>\n",
       "      <td>Nandani Gupta</td>\n",
       "      <td>11</td>\n",
       "      <td>00:01:15</td>\n",
       "      <td>00:28:25</td>\n",
       "      <td>3.14</td>\n",
       "      <td>7</td>\n",
       "      <td>2022-07-30</td>\n",
       "      <td>30</td>\n",
       "    </tr>\n",
       "    <tr>\n",
       "      <th>2</th>\n",
       "      <td>3</td>\n",
       "      <td>7/30/2022</td>\n",
       "      <td>Ameya Jain</td>\n",
       "      <td>14</td>\n",
       "      <td>00:00:30</td>\n",
       "      <td>00:11:36</td>\n",
       "      <td>4.55</td>\n",
       "      <td>11</td>\n",
       "      <td>2022-07-30</td>\n",
       "      <td>30</td>\n",
       "    </tr>\n",
       "    <tr>\n",
       "      <th>3</th>\n",
       "      <td>4</td>\n",
       "      <td>7/30/2022</td>\n",
       "      <td>Mahesh Sarade</td>\n",
       "      <td>14</td>\n",
       "      <td>00:01:04</td>\n",
       "      <td>00:15:46</td>\n",
       "      <td>4.71</td>\n",
       "      <td>7</td>\n",
       "      <td>2022-07-30</td>\n",
       "      <td>30</td>\n",
       "    </tr>\n",
       "    <tr>\n",
       "      <th>4</th>\n",
       "      <td>5</td>\n",
       "      <td>7/30/2022</td>\n",
       "      <td>Swati</td>\n",
       "      <td>14</td>\n",
       "      <td>00:01:11</td>\n",
       "      <td>00:16:33</td>\n",
       "      <td>3.67</td>\n",
       "      <td>6</td>\n",
       "      <td>2022-07-30</td>\n",
       "      <td>30</td>\n",
       "    </tr>\n",
       "    <tr>\n",
       "      <th>...</th>\n",
       "      <td>...</td>\n",
       "      <td>...</td>\n",
       "      <td>...</td>\n",
       "      <td>...</td>\n",
       "      <td>...</td>\n",
       "      <td>...</td>\n",
       "      <td>...</td>\n",
       "      <td>...</td>\n",
       "      <td>...</td>\n",
       "      <td>...</td>\n",
       "    </tr>\n",
       "    <tr>\n",
       "      <th>2101</th>\n",
       "      <td>2102</td>\n",
       "      <td>7/1/2022</td>\n",
       "      <td>Jaydeep Dixit</td>\n",
       "      <td>25</td>\n",
       "      <td>00:01:15</td>\n",
       "      <td>00:26:27</td>\n",
       "      <td>4.77</td>\n",
       "      <td>13</td>\n",
       "      <td>2022-07-01</td>\n",
       "      <td>26</td>\n",
       "    </tr>\n",
       "    <tr>\n",
       "      <th>2102</th>\n",
       "      <td>2103</td>\n",
       "      <td>7/1/2022</td>\n",
       "      <td>Shivananda Sonwane</td>\n",
       "      <td>23</td>\n",
       "      <td>00:01:24</td>\n",
       "      <td>00:30:14</td>\n",
       "      <td>4.86</td>\n",
       "      <td>14</td>\n",
       "      <td>2022-07-01</td>\n",
       "      <td>26</td>\n",
       "    </tr>\n",
       "    <tr>\n",
       "      <th>2103</th>\n",
       "      <td>2104</td>\n",
       "      <td>7/1/2022</td>\n",
       "      <td>Khushboo Priya</td>\n",
       "      <td>24</td>\n",
       "      <td>00:01:46</td>\n",
       "      <td>00:29:28</td>\n",
       "      <td>4.61</td>\n",
       "      <td>18</td>\n",
       "      <td>2022-07-01</td>\n",
       "      <td>26</td>\n",
       "    </tr>\n",
       "    <tr>\n",
       "      <th>2104</th>\n",
       "      <td>2105</td>\n",
       "      <td>7/1/2022</td>\n",
       "      <td>Hrisikesh Neogi</td>\n",
       "      <td>15</td>\n",
       "      <td>00:01:05</td>\n",
       "      <td>00:25:29</td>\n",
       "      <td>4.56</td>\n",
       "      <td>9</td>\n",
       "      <td>2022-07-01</td>\n",
       "      <td>26</td>\n",
       "    </tr>\n",
       "    <tr>\n",
       "      <th>2105</th>\n",
       "      <td>2106</td>\n",
       "      <td>7/1/2022</td>\n",
       "      <td>Tarun</td>\n",
       "      <td>22</td>\n",
       "      <td>00:00:00</td>\n",
       "      <td>00:45:14</td>\n",
       "      <td>1.50</td>\n",
       "      <td>6</td>\n",
       "      <td>2022-07-01</td>\n",
       "      <td>26</td>\n",
       "    </tr>\n",
       "  </tbody>\n",
       "</table>\n",
       "<p>745 rows × 10 columns</p>\n",
       "</div>"
      ],
      "text/plain": [
       "      SL No       Date          Agent Name  Total Chats Average Response Time  \\\n",
       "0         1  7/30/2022        Prerna Singh           11              00:00:38   \n",
       "1         2  7/30/2022       Nandani Gupta           11              00:01:15   \n",
       "2         3  7/30/2022          Ameya Jain           14              00:00:30   \n",
       "3         4  7/30/2022       Mahesh Sarade           14              00:01:04   \n",
       "4         5  7/30/2022              Swati            14              00:01:11   \n",
       "...     ...        ...                 ...          ...                   ...   \n",
       "2101   2102   7/1/2022       Jaydeep Dixit           25              00:01:15   \n",
       "2102   2103   7/1/2022  Shivananda Sonwane           23              00:01:24   \n",
       "2103   2104   7/1/2022      Khushboo Priya           24              00:01:46   \n",
       "2104   2105   7/1/2022     Hrisikesh Neogi           15              00:01:05   \n",
       "2105   2106   7/1/2022              Tarun            22              00:00:00   \n",
       "\n",
       "     Average Resolution Time  Average Rating  Total Feedback converted_Date  \\\n",
       "0                   00:04:20            4.11               9     2022-07-30   \n",
       "1                   00:28:25            3.14               7     2022-07-30   \n",
       "2                   00:11:36            4.55              11     2022-07-30   \n",
       "3                   00:15:46            4.71               7     2022-07-30   \n",
       "4                   00:16:33            3.67               6     2022-07-30   \n",
       "...                      ...             ...             ...            ...   \n",
       "2101                00:26:27            4.77              13     2022-07-01   \n",
       "2102                00:30:14            4.86              14     2022-07-01   \n",
       "2103                00:29:28            4.61              18     2022-07-01   \n",
       "2104                00:25:29            4.56               9     2022-07-01   \n",
       "2105                00:45:14            1.50               6     2022-07-01   \n",
       "\n",
       "      week  \n",
       "0       30  \n",
       "1       30  \n",
       "2       30  \n",
       "3       30  \n",
       "4       30  \n",
       "...    ...  \n",
       "2101    26  \n",
       "2102    26  \n",
       "2103    26  \n",
       "2104    26  \n",
       "2105    26  \n",
       "\n",
       "[745 rows x 10 columns]"
      ]
     },
     "execution_count": 33,
     "metadata": {},
     "output_type": "execute_result"
    }
   ],
   "source": [
    "ap1\n",
    "#ap1.drop('Avg Resolution Time',inplace =True,axis =1)"
   ]
  },
  {
   "cell_type": "code",
   "execution_count": 34,
   "metadata": {},
   "outputs": [
    {
     "name": "stderr",
     "output_type": "stream",
     "text": [
      "C:\\Users\\91708\\anaconda3\\lib\\site-packages\\pandas\\core\\arrays\\timedeltas.py:545: RuntimeWarning: divide by zero encountered in true_divide\n",
      "  result = self._data / other\n",
      "C:\\Users\\91708\\anaconda3\\lib\\site-packages\\pandas\\core\\arrays\\timedeltas.py:545: RuntimeWarning: invalid value encountered in true_divide\n",
      "  result = self._data / other\n"
     ]
    },
    {
     "data": {
      "text/plain": [
       "Agent Name     week\n",
       "Aditya Shinde  26     00:00:36.882058\n",
       "               27     00:01:13.541936\n",
       "               28     00:01:27.761525\n",
       "Aditya_iot     27     00:00:34.067652\n",
       "               28     00:01:27.947697\n",
       "                            ...      \n",
       "Wasim          30     00:01:07.333333\n",
       "Zeeshan        27     00:00:38.478355\n",
       "               28     00:03:21.486663\n",
       "               29     00:01:42.608949\n",
       "               30     00:01:29.316426\n",
       "Length: 182, dtype: timedelta64[ns]"
      ]
     },
     "execution_count": 34,
     "metadata": {},
     "output_type": "execute_result"
    }
   ],
   "source": [
    "#Average weekly responce time for each agent\n",
    "\n",
    "(ap1.groupby(['Agent Name','week'])['Average Response Time'].sum())/l5"
   ]
  },
  {
   "cell_type": "code",
   "execution_count": 35,
   "metadata": {},
   "outputs": [
    {
     "data": {
      "text/plain": [
       "Agent Name     week\n",
       "Aditya Shinde  26     00:10:17.885576\n",
       "               27     00:23:25.739677\n",
       "               28     00:35:13.164228\n",
       "Aditya_iot     27     00:08:44.061967\n",
       "               28     00:25:40.776009\n",
       "                            ...      \n",
       "Wasim          30     00:23:26.444444\n",
       "Zeeshan        27     00:08:47.270077\n",
       "               28     00:26:46.762862\n",
       "               29     00:21:36.603993\n",
       "               30     00:18:02.291211\n",
       "Length: 182, dtype: timedelta64[ns]"
      ]
     },
     "execution_count": 35,
     "metadata": {},
     "output_type": "execute_result"
    }
   ],
   "source": [
    "#Average weekly resolution time fr each agent\n",
    "\n",
    "(ap1.groupby(['Agent Name','week'])['Average Resolution Time'].sum())/l5"
   ]
  },
  {
   "cell_type": "code",
   "execution_count": 36,
   "metadata": {},
   "outputs": [],
   "source": [
    "alr = pd.read_csv(r'E:\\Ineuron_Videos\\30July Data\\AgentLogingReport.csv')"
   ]
  },
  {
   "cell_type": "code",
   "execution_count": 37,
   "metadata": {},
   "outputs": [
    {
     "data": {
      "text/plain": [
       "(1000, 6)"
      ]
     },
     "execution_count": 37,
     "metadata": {},
     "output_type": "execute_result"
    }
   ],
   "source": [
    "alr.shape"
   ]
  },
  {
   "cell_type": "code",
   "execution_count": 38,
   "metadata": {},
   "outputs": [
    {
     "data": {
      "text/html": [
       "<div>\n",
       "<style scoped>\n",
       "    .dataframe tbody tr th:only-of-type {\n",
       "        vertical-align: middle;\n",
       "    }\n",
       "\n",
       "    .dataframe tbody tr th {\n",
       "        vertical-align: top;\n",
       "    }\n",
       "\n",
       "    .dataframe thead th {\n",
       "        text-align: right;\n",
       "    }\n",
       "</style>\n",
       "<table border=\"1\" class=\"dataframe\">\n",
       "  <thead>\n",
       "    <tr style=\"text-align: right;\">\n",
       "      <th></th>\n",
       "      <th>SL No</th>\n",
       "      <th>Agent</th>\n",
       "      <th>Date</th>\n",
       "      <th>Login Time</th>\n",
       "      <th>Logout Time</th>\n",
       "      <th>Duration</th>\n",
       "    </tr>\n",
       "  </thead>\n",
       "  <tbody>\n",
       "    <tr>\n",
       "      <th>557</th>\n",
       "      <td>558</td>\n",
       "      <td>Jaydeep Dixit</td>\n",
       "      <td>24-Jul-22</td>\n",
       "      <td>20:52:20</td>\n",
       "      <td>21:02:14</td>\n",
       "      <td>24:09:54</td>\n",
       "    </tr>\n",
       "    <tr>\n",
       "      <th>999</th>\n",
       "      <td>1000</td>\n",
       "      <td>Tarun</td>\n",
       "      <td>01-Jul-22</td>\n",
       "      <td>01:52:47</td>\n",
       "      <td>12:01:07</td>\n",
       "      <td>514:08:20</td>\n",
       "    </tr>\n",
       "  </tbody>\n",
       "</table>\n",
       "</div>"
      ],
      "text/plain": [
       "     SL No          Agent       Date Login Time Logout Time   Duration\n",
       "557    558  Jaydeep Dixit  24-Jul-22   20:52:20    21:02:14   24:09:54\n",
       "999   1000          Tarun  01-Jul-22   01:52:47    12:01:07  514:08:20"
      ]
     },
     "execution_count": 38,
     "metadata": {},
     "output_type": "execute_result"
    }
   ],
   "source": [
    "alr[alr['Duration']>'24:00:00']\n",
    "\n",
    "#Droping these records as data may corrupt"
   ]
  },
  {
   "cell_type": "code",
   "execution_count": 39,
   "metadata": {},
   "outputs": [],
   "source": [
    "alr.drop(alr[(alr['Duration']>'24:00:00')].index,inplace=True)"
   ]
  },
  {
   "cell_type": "code",
   "execution_count": 40,
   "metadata": {},
   "outputs": [
    {
     "data": {
      "text/plain": [
       "SL No           int64\n",
       "Agent          object\n",
       "Date           object\n",
       "Login Time     object\n",
       "Logout Time    object\n",
       "Duration       object\n",
       "dtype: object"
      ]
     },
     "execution_count": 40,
     "metadata": {},
     "output_type": "execute_result"
    }
   ],
   "source": [
    "alr.dtypes"
   ]
  },
  {
   "cell_type": "code",
   "execution_count": 41,
   "metadata": {},
   "outputs": [],
   "source": [
    "alr['Date']=pd.to_datetime(alr['Date'])\n",
    "alr['Login Time'] = pd.to_timedelta(alr['Login Time'])\n",
    "alr['Logout Time'] = pd.to_timedelta(alr['Logout Time'])\n",
    "alr['Duration']=pd.to_timedelta(alr['Duration'])"
   ]
  },
  {
   "cell_type": "code",
   "execution_count": 42,
   "metadata": {},
   "outputs": [],
   "source": [
    "alr['week']=alr['Date'].dt.week\n",
    "alr['month']=alr['Date'].dt.month"
   ]
  },
  {
   "cell_type": "code",
   "execution_count": 43,
   "metadata": {},
   "outputs": [
    {
     "data": {
      "text/html": [
       "<div>\n",
       "<style scoped>\n",
       "    .dataframe tbody tr th:only-of-type {\n",
       "        vertical-align: middle;\n",
       "    }\n",
       "\n",
       "    .dataframe tbody tr th {\n",
       "        vertical-align: top;\n",
       "    }\n",
       "\n",
       "    .dataframe thead th {\n",
       "        text-align: right;\n",
       "    }\n",
       "</style>\n",
       "<table border=\"1\" class=\"dataframe\">\n",
       "  <thead>\n",
       "    <tr style=\"text-align: right;\">\n",
       "      <th></th>\n",
       "      <th>SL No</th>\n",
       "      <th>Agent</th>\n",
       "      <th>Date</th>\n",
       "      <th>Login Time</th>\n",
       "      <th>Logout Time</th>\n",
       "      <th>Duration</th>\n",
       "      <th>week</th>\n",
       "      <th>month</th>\n",
       "    </tr>\n",
       "  </thead>\n",
       "  <tbody>\n",
       "  </tbody>\n",
       "</table>\n",
       "</div>"
      ],
      "text/plain": [
       "Empty DataFrame\n",
       "Columns: [SL No, Agent, Date, Login Time, Logout Time, Duration, week, month]\n",
       "Index: []"
      ]
     },
     "execution_count": 43,
     "metadata": {},
     "output_type": "execute_result"
    }
   ],
   "source": [
    "alr[alr['Duration']>'24:00:00']"
   ]
  },
  {
   "cell_type": "code",
   "execution_count": 44,
   "metadata": {},
   "outputs": [
    {
     "data": {
      "text/plain": [
       "SL No                    int64\n",
       "Agent                   object\n",
       "Date            datetime64[ns]\n",
       "Login Time     timedelta64[ns]\n",
       "Logout Time    timedelta64[ns]\n",
       "Duration       timedelta64[ns]\n",
       "week                     int64\n",
       "month                    int64\n",
       "dtype: object"
      ]
     },
     "execution_count": 44,
     "metadata": {},
     "output_type": "execute_result"
    }
   ],
   "source": [
    "alr.dtypes"
   ]
  },
  {
   "cell_type": "code",
   "execution_count": 45,
   "metadata": {},
   "outputs": [
    {
     "data": {
      "text/html": [
       "<div>\n",
       "<style scoped>\n",
       "    .dataframe tbody tr th:only-of-type {\n",
       "        vertical-align: middle;\n",
       "    }\n",
       "\n",
       "    .dataframe tbody tr th {\n",
       "        vertical-align: top;\n",
       "    }\n",
       "\n",
       "    .dataframe thead th {\n",
       "        text-align: right;\n",
       "    }\n",
       "</style>\n",
       "<table border=\"1\" class=\"dataframe\">\n",
       "  <thead>\n",
       "    <tr style=\"text-align: right;\">\n",
       "      <th></th>\n",
       "      <th>SL No</th>\n",
       "      <th>Agent</th>\n",
       "      <th>Date</th>\n",
       "      <th>Login Time</th>\n",
       "      <th>Logout Time</th>\n",
       "      <th>Duration</th>\n",
       "      <th>week</th>\n",
       "      <th>month</th>\n",
       "    </tr>\n",
       "  </thead>\n",
       "  <tbody>\n",
       "    <tr>\n",
       "      <th>994</th>\n",
       "      <td>995</td>\n",
       "      <td>Aravind</td>\n",
       "      <td>2022-07-20</td>\n",
       "      <td>09:03:51</td>\n",
       "      <td>15:15:46</td>\n",
       "      <td>06:11:55</td>\n",
       "      <td>29</td>\n",
       "      <td>7</td>\n",
       "    </tr>\n",
       "    <tr>\n",
       "      <th>995</th>\n",
       "      <td>996</td>\n",
       "      <td>Manjunatha A</td>\n",
       "      <td>2022-07-20</td>\n",
       "      <td>09:03:51</td>\n",
       "      <td>15:02:28</td>\n",
       "      <td>05:58:37</td>\n",
       "      <td>29</td>\n",
       "      <td>7</td>\n",
       "    </tr>\n",
       "    <tr>\n",
       "      <th>996</th>\n",
       "      <td>997</td>\n",
       "      <td>Bharath</td>\n",
       "      <td>2022-07-20</td>\n",
       "      <td>09:00:49</td>\n",
       "      <td>15:01:32</td>\n",
       "      <td>06:00:43</td>\n",
       "      <td>29</td>\n",
       "      <td>7</td>\n",
       "    </tr>\n",
       "    <tr>\n",
       "      <th>997</th>\n",
       "      <td>998</td>\n",
       "      <td>Khushboo Priya</td>\n",
       "      <td>2022-07-20</td>\n",
       "      <td>08:59:20</td>\n",
       "      <td>14:26:55</td>\n",
       "      <td>05:27:34</td>\n",
       "      <td>29</td>\n",
       "      <td>7</td>\n",
       "    </tr>\n",
       "    <tr>\n",
       "      <th>998</th>\n",
       "      <td>999</td>\n",
       "      <td>Nishtha Jain</td>\n",
       "      <td>2022-07-20</td>\n",
       "      <td>08:43:55</td>\n",
       "      <td>14:00:33</td>\n",
       "      <td>05:16:38</td>\n",
       "      <td>29</td>\n",
       "      <td>7</td>\n",
       "    </tr>\n",
       "  </tbody>\n",
       "</table>\n",
       "</div>"
      ],
      "text/plain": [
       "     SL No           Agent       Date Login Time Logout Time Duration  week  \\\n",
       "994    995         Aravind 2022-07-20   09:03:51    15:15:46 06:11:55    29   \n",
       "995    996    Manjunatha A 2022-07-20   09:03:51    15:02:28 05:58:37    29   \n",
       "996    997         Bharath 2022-07-20   09:00:49    15:01:32 06:00:43    29   \n",
       "997    998  Khushboo Priya 2022-07-20   08:59:20    14:26:55 05:27:34    29   \n",
       "998    999    Nishtha Jain 2022-07-20   08:43:55    14:00:33 05:16:38    29   \n",
       "\n",
       "     month  \n",
       "994      7  \n",
       "995      7  \n",
       "996      7  \n",
       "997      7  \n",
       "998      7  "
      ]
     },
     "execution_count": 45,
     "metadata": {},
     "output_type": "execute_result"
    }
   ],
   "source": [
    "alr.tail()"
   ]
  },
  {
   "cell_type": "code",
   "execution_count": 46,
   "metadata": {},
   "outputs": [
    {
     "data": {
      "text/plain": [
       "SL No          998\n",
       "Agent           48\n",
       "Date            11\n",
       "Login Time     955\n",
       "Logout Time    982\n",
       "Duration       725\n",
       "week             2\n",
       "month            1\n",
       "dtype: int64"
      ]
     },
     "execution_count": 46,
     "metadata": {},
     "output_type": "execute_result"
    }
   ],
   "source": [
    "alr.nunique()"
   ]
  },
  {
   "cell_type": "code",
   "execution_count": 47,
   "metadata": {},
   "outputs": [
    {
     "data": {
      "text/plain": [
       "Agent          week\n",
       "Aditya Shinde  30     0 days 00:02:10\n",
       "Aditya_iot     29     0 days 06:05:43\n",
       "               30     0 days 09:38:09\n",
       "Amersh         30     0 days 03:03:50\n",
       "Ameya Jain     29     1 days 00:04:59\n",
       "                            ...      \n",
       "Swati          30     0 days 06:08:33\n",
       "Wasim          29     0 days 19:37:32\n",
       "               30     1 days 04:33:13\n",
       "Zeeshan        29     1 days 00:25:39\n",
       "               30     1 days 00:39:40\n",
       "Name: Duration, Length: 88, dtype: timedelta64[ns]"
      ]
     },
     "execution_count": 47,
     "metadata": {},
     "output_type": "execute_result"
    }
   ],
   "source": [
    "#total weekly contribution for each agent.\n",
    "\n",
    "p = alr.groupby(['Agent','week'])['Duration'].sum()\n",
    "p"
   ]
  },
  {
   "cell_type": "code",
   "execution_count": 48,
   "metadata": {},
   "outputs": [
    {
     "data": {
      "text/plain": [
       "Agent             week\n",
       "Deepranjan Gupta  30     2 days 09:16:44\n",
       "Name: Duration, dtype: timedelta64[ns]"
      ]
     },
     "execution_count": 48,
     "metadata": {},
     "output_type": "execute_result"
    }
   ],
   "source": [
    "p[p==p.max()]"
   ]
  },
  {
   "cell_type": "code",
   "execution_count": 49,
   "metadata": {},
   "outputs": [
    {
     "data": {
      "text/plain": [
       "Agent          week\n",
       "Aditya Shinde  30       1\n",
       "Aditya_iot     29       3\n",
       "               30       6\n",
       "Amersh         30       4\n",
       "Ameya Jain     29       7\n",
       "                       ..\n",
       "Swati          30       1\n",
       "Wasim          29       9\n",
       "               30      11\n",
       "Zeeshan        29       6\n",
       "               30       4\n",
       "Name: Duration, Length: 88, dtype: int64"
      ]
     },
     "execution_count": 49,
     "metadata": {},
     "output_type": "execute_result"
    }
   ],
   "source": [
    "alr.groupby(['Agent','week'])['Duration'].count()"
   ]
  },
  {
   "cell_type": "code",
   "execution_count": 50,
   "metadata": {},
   "outputs": [
    {
     "data": {
      "text/plain": [
       "Timedelta('68 days 09:39:38')"
      ]
     },
     "execution_count": 50,
     "metadata": {},
     "output_type": "execute_result"
    }
   ],
   "source": [
    "#Toatl active hours\n",
    "\n",
    "alr['Duration'].sum()"
   ]
  },
  {
   "cell_type": "code",
   "execution_count": 51,
   "metadata": {},
   "outputs": [
    {
     "data": {
      "text/plain": [
       "Agent\n",
       "Aditya Shinde    0.002200\n",
       "Aditya_iot       0.958244\n",
       "Amersh           0.186634\n",
       "Ameya Jain       2.562988\n",
       "Ankitjha         0.138089\n",
       "Name: Duration, dtype: float64"
      ]
     },
     "execution_count": 51,
     "metadata": {},
     "output_type": "execute_result"
    }
   ],
   "source": [
    "#percentage of acive hour for a month\n",
    "\n",
    "lp = (alr.groupby(['Agent'])['Duration'].sum())/ alr['Duration'].sum() * 100\n",
    "lp.head()"
   ]
  },
  {
   "cell_type": "code",
   "execution_count": 52,
   "metadata": {},
   "outputs": [
    {
     "data": {
      "text/plain": [
       "100.0"
      ]
     },
     "execution_count": 52,
     "metadata": {},
     "output_type": "execute_result"
    }
   ],
   "source": [
    "lp.sum()"
   ]
  },
  {
   "cell_type": "code",
   "execution_count": 53,
   "metadata": {},
   "outputs": [
    {
     "data": {
      "text/plain": [
       "Agent\n",
       "Deepranjan Gupta    6.473645\n",
       "Name: Duration, dtype: float64"
      ]
     },
     "execution_count": 53,
     "metadata": {},
     "output_type": "execute_result"
    }
   ],
   "source": [
    "#Max percentage\n",
    "\n",
    "lp[lp==lp.max()]"
   ]
  },
  {
   "cell_type": "code",
   "execution_count": 54,
   "metadata": {},
   "outputs": [
    {
     "data": {
      "text/plain": [
       "Series([], Name: Duration, dtype: float64)"
      ]
     },
     "execution_count": 54,
     "metadata": {},
     "output_type": "execute_result"
    }
   ],
   "source": [
    "lp[lp<=0]"
   ]
  },
  {
   "cell_type": "code",
   "execution_count": 55,
   "metadata": {},
   "outputs": [
    {
     "data": {
      "text/plain": [
       "Agent\n",
       "Deepranjan Gupta      6.473645\n",
       "Dibyanshu             3.203819\n",
       "Harikrishnan Shaji    3.271975\n",
       "Hrisikesh Neogi       3.506730\n",
       "Ishawant Kumar        3.154056\n",
       "Shivananda Sonwane    3.002312\n",
       "Shubham Sharma        3.277068\n",
       "Name: Duration, dtype: float64"
      ]
     },
     "execution_count": 55,
     "metadata": {},
     "output_type": "execute_result"
    }
   ],
   "source": [
    "lp[lp>3]"
   ]
  },
  {
   "cell_type": "code",
   "execution_count": null,
   "metadata": {},
   "outputs": [],
   "source": []
  }
 ],
 "metadata": {
  "kernelspec": {
   "display_name": "Python 3",
   "language": "python",
   "name": "python3"
  },
  "language_info": {
   "codemirror_mode": {
    "name": "ipython",
    "version": 3
   },
   "file_extension": ".py",
   "mimetype": "text/x-python",
   "name": "python",
   "nbconvert_exporter": "python",
   "pygments_lexer": "ipython3",
   "version": "3.7.6"
  }
 },
 "nbformat": 4,
 "nbformat_minor": 4
}
